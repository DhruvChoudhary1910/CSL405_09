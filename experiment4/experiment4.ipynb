{
 "cells": [
  {
   "cell_type": "markdown",
   "id": "8440433a-5fb3-4369-b654-86b63194a4b9",
   "metadata": {},
   "source": [
    "### Dhruv Choudhary\n",
    "### 09"
   ]
  },
  {
   "cell_type": "code",
   "execution_count": 1,
   "id": "43d26314-50fb-43c9-a040-42b6b97b08ae",
   "metadata": {},
   "outputs": [
    {
     "name": "stdout",
     "output_type": "stream",
     "text": [
      "Files in the current directory:\n",
      "-1.14-windows.xml\n",
      ".angular-config.json\n",
      ".bash_history\n",
      ".emulator_console_auth_token\n",
      ".gitconfig\n",
      ".gitignore\n",
      ".lesshst\n",
      ".node_repl_history\n",
      "Assignment1.ipynb\n",
      "emailvalidation.html\n",
      "Experiment 2.ipynb\n",
      "experiment2.ipynb\n",
      "experiment3.ipynb\n",
      "experiment4.ipynb\n",
      "nlp_lab_1.py\n",
      "NTUSER.DAT\n",
      "ntuser.dat.LOG1\n",
      "ntuser.dat.LOG2\n",
      "NTUSER.DAT{2ad838bb-efea-11ee-a54d-000d3a94eaa1}.TxR.0.regtrans-ms\n",
      "NTUSER.DAT{2ad838bb-efea-11ee-a54d-000d3a94eaa1}.TxR.1.regtrans-ms\n",
      "NTUSER.DAT{2ad838bb-efea-11ee-a54d-000d3a94eaa1}.TxR.2.regtrans-ms\n",
      "NTUSER.DAT{2ad838bb-efea-11ee-a54d-000d3a94eaa1}.TxR.blf\n",
      "NTUSER.DAT{2ad838bc-efea-11ee-a54d-000d3a94eaa1}.TM.blf\n",
      "NTUSER.DAT{2ad838bc-efea-11ee-a54d-000d3a94eaa1}.TMContainer00000000000000000001.regtrans-ms\n",
      "NTUSER.DAT{2ad838bc-efea-11ee-a54d-000d3a94eaa1}.TMContainer00000000000000000002.regtrans-ms\n",
      "ntuser.ini\n",
      "tempCodeRunnerFile.py\n",
      "Untitled.ipynb\n",
      "Untitled1.ipynb\n",
      "Untitled2.ipynb\n",
      "Untitled3.ipynb\n"
     ]
    }
   ],
   "source": [
    "from pathlib import Path\n",
    "\n",
    "files = [f for f in Path('.').iterdir() if f.is_file()]\n",
    "\n",
    "print(\"Files in the current directory:\")\n",
    "for file in files:\n",
    "    print(file.name)\n"
   ]
  },
  {
   "cell_type": "code",
   "execution_count": null,
   "id": "597afe54-82d4-47da-8bc5-c03d2a0de1bf",
   "metadata": {},
   "outputs": [],
   "source": []
  }
 ],
 "metadata": {
  "kernelspec": {
   "display_name": "Python 3 (ipykernel)",
   "language": "python",
   "name": "python3"
  },
  "language_info": {
   "codemirror_mode": {
    "name": "ipython",
    "version": 3
   },
   "file_extension": ".py",
   "mimetype": "text/x-python",
   "name": "python",
   "nbconvert_exporter": "python",
   "pygments_lexer": "ipython3",
   "version": "3.12.5"
  }
 },
 "nbformat": 4,
 "nbformat_minor": 5
}
