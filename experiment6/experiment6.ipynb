{
 "cells": [
  {
   "cell_type": "markdown",
   "metadata": {
    "id": "YL1wRHhagBRT"
   },
   "source": [
    "### Dhruv Choudhary RollNo.09"
   ]
  },
  {
   "cell_type": "markdown",
   "metadata": {
    "id": "RQZxyP1OhK1N"
   },
   "source": [
    "### Importing"
   ]
  },
  {
   "cell_type": "code",
   "execution_count": null,
   "metadata": {
    "id": "xSgSEuAVaojP"
   },
   "outputs": [],
   "source": [
    "import sqlite3"
   ]
  },
  {
   "cell_type": "markdown",
   "metadata": {
    "id": "Q23Ik80nhQg8"
   },
   "source": [
    "### Connecting to datbase"
   ]
  },
  {
   "cell_type": "code",
   "execution_count": null,
   "metadata": {
    "id": "QjtgAM7idHp_"
   },
   "outputs": [],
   "source": [
    "import os\n",
    "if not os.path.exists(\"/content/genericDatabase.db\"):\n",
    "    open(\"/content/genericDatabase.db\", \"w\").close()\n",
    "\n",
    "connection = sqlite3.connect('/content/genericDatabase.db')\n",
    "cursor = connection.cursor()"
   ]
  },
  {
   "cell_type": "markdown",
   "metadata": {
    "id": "4FOVqVqehVD9"
   },
   "source": [
    "### Create Table"
   ]
  },
  {
   "cell_type": "code",
   "execution_count": null,
   "metadata": {
    "id": "Ign4o6wEeDvt"
   },
   "outputs": [],
   "source": [
    "cursor.execute('''\n",
    "    CREATE TABLE IF NOT EXISTS students (\n",
    "        id INTEGER PRIMARY KEY AUTOINCREMENT,\n",
    "        name TEXT NOT NULL,\n",
    "        age INTEGER NOT NULL\n",
    "    )\n",
    "''')\n",
    "connection.commit()"
   ]
  },
  {
   "cell_type": "markdown",
   "metadata": {
    "id": "7kYtRVoLhcjt"
   },
   "source": [
    "## CRUD Operations"
   ]
  },
  {
   "cell_type": "markdown",
   "metadata": {
    "id": "PV9aO8F1hhTU"
   },
   "source": [
    "### Create (Insertion)"
   ]
  },
  {
   "cell_type": "code",
   "execution_count": null,
   "metadata": {
    "colab": {
     "base_uri": "https://localhost:8080/"
    },
    "executionInfo": {
     "elapsed": 14,
     "status": "ok",
     "timestamp": 1740980137795,
     "user": {
      "displayName": "SE_06_SHARVARI",
      "userId": "16388512041190257768"
     },
     "user_tz": -330
    },
    "id": "9sC-Bc78e3La",
    "outputId": "0dababa1-2cfc-4e78-cba6-2bb7373a4964"
   },
   "outputs": [
    {
     "name": "stdout",
     "output_type": "stream",
     "text": [
      "Record added successfully!\n",
      "Record added successfully!\n"
     ]
    }
   ],
   "source": [
    "def create_student(name, age):\n",
    "    cursor.execute('''\n",
    "        INSERT INTO students (name, age)\n",
    "        VALUES (?, ?)\n",
    "    ''', (name, age))\n",
    "    connection.commit()\n",
    "    print(\"Record added successfully!\")\n",
    "\n",
    "create_student(\"Griffith\", 20)\n",
    "create_student(\"Guts\", 22)"
   ]
  },
  {
   "cell_type": "markdown",
   "metadata": {
    "id": "R3a--SSd3P2y"
   },
   "source": [
    "### Read (Retrive)"
   ]
  },
  {
   "cell_type": "code",
   "execution_count": null,
   "metadata": {
    "colab": {
     "base_uri": "https://localhost:8080/"
    },
    "executionInfo": {
     "elapsed": 24,
     "status": "ok",
     "timestamp": 1740980137813,
     "user": {
      "displayName": "SE_06_SHARVARI",
      "userId": "16388512041190257768"
     },
     "user_tz": -330
    },
    "id": "dH2zlH3mfIk8",
    "outputId": "33f19f5d-e7f0-4c8e-f562-217a6eabdc8e"
   },
   "outputs": [
    {
     "name": "stdout",
     "output_type": "stream",
     "text": [
      "Student Records:\n",
      "(1, 'Griffith', 20)\n",
      "(2, 'Guts', 22)\n"
     ]
    }
   ],
   "source": [
    "\n",
    "def read_students():\n",
    "    cursor.execute('SELECT * FROM students')\n",
    "    rows = cursor.fetchall()\n",
    "    print(\"Student Records:\")\n",
    "    for row in rows:\n",
    "        print(row)\n",
    "\n",
    "read_students()"
   ]
  },
  {
   "cell_type": "markdown",
   "metadata": {
    "id": "b4yTSGSh3UY4"
   },
   "source": [
    "### Update"
   ]
  },
  {
   "cell_type": "code",
   "execution_count": null,
   "metadata": {
    "colab": {
     "base_uri": "https://localhost:8080/"
    },
    "executionInfo": {
     "elapsed": 7,
     "status": "ok",
     "timestamp": 1740980137822,
     "user": {
      "displayName": "SE_06_SHARVARI",
      "userId": "16388512041190257768"
     },
     "user_tz": -330
    },
    "id": "gTeC86ahfMzI",
    "outputId": "960ed5ac-1137-497a-aa17-98e9fb269e2b"
   },
   "outputs": [
    {
     "name": "stdout",
     "output_type": "stream",
     "text": [
      "Student age updated successfully!\n",
      "Student Records:\n",
      "(1, 'Griffith', 21)\n",
      "(2, 'Guts', 22)\n"
     ]
    }
   ],
   "source": [
    "def update_student_age(student_id, new_age):\n",
    "    cursor.execute('''\n",
    "        UPDATE students\n",
    "        SET age = ?\n",
    "        WHERE id = ?\n",
    "    ''', (new_age, student_id))\n",
    "    connection.commit()\n",
    "    print(\"Student age updated successfully!\")\n",
    "\n",
    "update_student_age(1, 21)  # Updating student with ID 1 to age 21\n",
    "read_students()"
   ]
  },
  {
   "cell_type": "markdown",
   "metadata": {
    "id": "CNQkznM43XvR"
   },
   "source": [
    "### Delete"
   ]
  },
  {
   "cell_type": "code",
   "execution_count": null,
   "metadata": {
    "colab": {
     "base_uri": "https://localhost:8080/"
    },
    "executionInfo": {
     "elapsed": 20,
     "status": "ok",
     "timestamp": 1740980137844,
     "user": {
      "displayName": "SE_06_SHARVARI",
      "userId": "16388512041190257768"
     },
     "user_tz": -330
    },
    "id": "cDkdgmpmfo9i",
    "outputId": "a3375ead-ffe8-495e-d4e5-1bd533798980"
   },
   "outputs": [
    {
     "name": "stdout",
     "output_type": "stream",
     "text": [
      "Student deleted successfully!\n",
      "Student Records:\n",
      "(1, 'Griffith', 21)\n"
     ]
    }
   ],
   "source": [
    "def delete_student(student_id):\n",
    "    cursor.execute('''\n",
    "        DELETE FROM students\n",
    "        WHERE id = ?\n",
    "    ''', (student_id,))\n",
    "    connection.commit()\n",
    "    print(\"Student deleted successfully!\")\n",
    "\n",
    "delete_student(2)\n",
    "read_students()"
   ]
  },
  {
   "cell_type": "markdown",
   "metadata": {
    "id": "evzDjREm3as6"
   },
   "source": [
    "### Closing the database connection"
   ]
  },
  {
   "cell_type": "code",
   "execution_count": null,
   "metadata": {
    "id": "e_apjPUHf4wK"
   },
   "outputs": [],
   "source": [
    "connection.close ()"
   ]
  }
 ],
 "metadata": {
  "colab": {
   "authorship_tag": "ABX9TyPSCddGZSJAcA8/DJF71Irw",
   "provenance": []
  },
  "kernelspec": {
   "display_name": "Python 3 (ipykernel)",
   "language": "python",
   "name": "python3"
  },
  "language_info": {
   "name": "python"
  }
 },
 "nbformat": 4,
 "nbformat_minor": 4
}
