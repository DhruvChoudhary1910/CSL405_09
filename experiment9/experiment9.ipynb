{
 "cells": [
  {
   "cell_type": "markdown",
   "id": "1f86c078-62e2-48c2-82a5-957e66c42522",
   "metadata": {},
   "source": [
    "### Dhruv Choudhary RollNo.09"
   ]
  },
  {
   "cell_type": "code",
   "execution_count": 1,
   "id": "21c8ca03-2abd-4b1e-9468-8f01ca9175ea",
   "metadata": {},
   "outputs": [
    {
     "name": "stdout",
     "output_type": "stream",
     "text": [
      "1. Array Creation Techniques\n"
     ]
    },
    {
     "data": {
      "text/plain": [
       "array([1, 2, 3, 4, 5])"
      ]
     },
     "execution_count": 1,
     "metadata": {},
     "output_type": "execute_result"
    }
   ],
   "source": [
    "import numpy as np\n",
    "\n",
    "# 1. Array Creation Techniques\n",
    "print(\"1. Array Creation Techniques\")\n",
    "\n",
    "# a. Creating an array from a list\n",
    "array_from_list = np.array([1, 2, 3, 4, 5])\n",
    "array_from_list"
   ]
  },
  {
   "cell_type": "code",
   "execution_count": 2,
   "id": "9d41048f-843a-42fd-a7f6-4f47e43352b0",
   "metadata": {},
   "outputs": [
    {
     "data": {
      "text/plain": [
       "array([0, 2, 4, 6, 8])"
      ]
     },
     "execution_count": 2,
     "metadata": {},
     "output_type": "execute_result"
    }
   ],
   "source": [
    "# b. Using arange()\n",
    "array_arange = np.arange(0, 10, 2)\n",
    "array_arange"
   ]
  },
  {
   "cell_type": "code",
   "execution_count": 3,
   "id": "63fb393b-b8ff-48b2-a545-608500c0a7fc",
   "metadata": {},
   "outputs": [
    {
     "data": {
      "text/plain": [
       "array([ 0. ,  2.5,  5. ,  7.5, 10. ])"
      ]
     },
     "execution_count": 3,
     "metadata": {},
     "output_type": "execute_result"
    }
   ],
   "source": [
    "# c. Using linspace()\n",
    "array_linspace = np.linspace(0, 10, 5)  # Divides 0 to 10 into 5 points\n",
    "array_linspace\n"
   ]
  },
  {
   "cell_type": "code",
   "execution_count": 4,
   "id": "ad46f513-9b0e-4c99-9c0a-2359662a4be0",
   "metadata": {},
   "outputs": [
    {
     "data": {
      "text/plain": [
       "array([[0., 0., 0.],\n",
       "       [0., 0., 0.],\n",
       "       [0., 0., 0.]])"
      ]
     },
     "execution_count": 4,
     "metadata": {},
     "output_type": "execute_result"
    }
   ],
   "source": [
    "# d. Using zeros()\n",
    "array_zeros = np.zeros((3, 3))\n",
    "array_zeros"
   ]
  },
  {
   "cell_type": "code",
   "execution_count": 5,
   "id": "5a82cc31-ded6-4a4f-af0e-264269ccfd28",
   "metadata": {},
   "outputs": [
    {
     "data": {
      "text/plain": [
       "array([[1., 1.],\n",
       "       [1., 1.]])"
      ]
     },
     "execution_count": 5,
     "metadata": {},
     "output_type": "execute_result"
    }
   ],
   "source": [
    "# e. Using ones()\n",
    "array_ones = np.ones((2, 2))\n",
    "array_ones"
   ]
  },
  {
   "cell_type": "code",
   "execution_count": 6,
   "id": "fa0ce0b5-4378-4dc8-b240-dc029227880e",
   "metadata": {},
   "outputs": [
    {
     "data": {
      "text/plain": [
       "array([[1., 0., 0.],\n",
       "       [0., 1., 0.],\n",
       "       [0., 0., 1.]])"
      ]
     },
     "execution_count": 6,
     "metadata": {},
     "output_type": "execute_result"
    }
   ],
   "source": [
    "# f. Using eye() for identity matrix\n",
    "array_eye = np.eye(3)\n",
    "array_eye"
   ]
  },
  {
   "cell_type": "code",
   "execution_count": 7,
   "id": "767d5293-864b-4b42-a410-6868b6e13587",
   "metadata": {},
   "outputs": [
    {
     "data": {
      "text/plain": [
       "array([[0.85208687, 0.94783789, 0.40663185],\n",
       "       [0.31884911, 0.49420098, 0.8925239 ],\n",
       "       [0.13810284, 0.93814826, 0.7224004 ]])"
      ]
     },
     "execution_count": 7,
     "metadata": {},
     "output_type": "execute_result"
    }
   ],
   "source": [
    "# g. Using random() for random values\n",
    "array_random = np.random.random((3, 3))\n",
    "array_random"
   ]
  },
  {
   "cell_type": "code",
   "execution_count": 8,
   "id": "38746562-051f-4476-b877-936a849f2786",
   "metadata": {},
   "outputs": [
    {
     "name": "stdout",
     "output_type": "stream",
     "text": [
      "\n",
      "2. NumPy Methods\n"
     ]
    },
    {
     "data": {
      "text/plain": [
       "array([[1, 2, 3],\n",
       "       [4, 5, 6],\n",
       "       [7, 8, 9]])"
      ]
     },
     "execution_count": 8,
     "metadata": {},
     "output_type": "execute_result"
    }
   ],
   "source": [
    "# 2. Different NumPy Methods\n",
    "print(\"\\n2. NumPy Methods\")\n",
    "\n",
    "# a. Reshaping an array\n",
    "reshaped_array = np.arange(1, 10).reshape(3, 3)\n",
    "reshaped_array"
   ]
  },
  {
   "cell_type": "code",
   "execution_count": 9,
   "id": "68358947-42e7-4be6-987e-f9f2278be9bd",
   "metadata": {},
   "outputs": [
    {
     "data": {
      "text/plain": [
       "array([[1, 4, 7],\n",
       "       [2, 5, 8],\n",
       "       [3, 6, 9]])"
      ]
     },
     "execution_count": 9,
     "metadata": {},
     "output_type": "execute_result"
    }
   ],
   "source": [
    "# b. Transposing an array\n",
    "transposed_array = reshaped_array.T\n",
    "transposed_array\n"
   ]
  },
  {
   "cell_type": "code",
   "execution_count": 10,
   "id": "1d39a395-727b-48ab-b711-a3083853b44a",
   "metadata": {},
   "outputs": [
    {
     "data": {
      "text/plain": [
       "array([1.        , 1.41421356, 1.73205081])"
      ]
     },
     "execution_count": 10,
     "metadata": {},
     "output_type": "execute_result"
    }
   ],
   "source": [
    "# c. Mathematical operations\n",
    "array_math = np.array([1, 2, 3])\n",
    "array_math + 2\n",
    "array_math * 3\n",
    "np.sqrt(array_math)"
   ]
  },
  {
   "cell_type": "code",
   "execution_count": 11,
   "id": "35f4a966-872f-44a5-bdb7-156031047cf1",
   "metadata": {},
   "outputs": [
    {
     "data": {
      "text/plain": [
       "1"
      ]
     },
     "execution_count": 11,
     "metadata": {},
     "output_type": "execute_result"
    }
   ],
   "source": [
    "# d. Aggregation methods\n",
    "np.sum(array_math)\n",
    "np.mean(array_math)\n",
    "np.max(array_math)\n",
    "np.min(array_math)"
   ]
  },
  {
   "cell_type": "code",
   "execution_count": 12,
   "id": "dadf586e-4711-4437-8244-43b931380bcc",
   "metadata": {},
   "outputs": [
    {
     "data": {
      "text/plain": [
       "array([1, 2, 3, 4, 5, 6])"
      ]
     },
     "execution_count": 12,
     "metadata": {},
     "output_type": "execute_result"
    }
   ],
   "source": [
    "# e. Concatenation of arrays\n",
    "array_a = np.array([1, 2, 3])\n",
    "array_b = np.array([4, 5, 6])\n",
    "concat_array = np.concatenate((array_a, array_b))\n",
    "concat_array\n"
   ]
  },
  {
   "cell_type": "code",
   "execution_count": 13,
   "id": "5331e288-561e-46f3-b546-576cd38243c3",
   "metadata": {},
   "outputs": [
    {
     "data": {
      "text/plain": [
       "array([1, 2, 3, 4])"
      ]
     },
     "execution_count": 13,
     "metadata": {},
     "output_type": "execute_result"
    }
   ],
   "source": [
    "# f. Sorting an array\n",
    "unsorted_array = np.array([3, 1, 4, 2])\n",
    "sorted_array = np.sort(unsorted_array)\n",
    "sorted_array"
   ]
  },
  {
   "cell_type": "code",
   "execution_count": 14,
   "id": "d255a478-4597-4e16-b051-6abb78bca849",
   "metadata": {},
   "outputs": [
    {
     "data": {
      "text/plain": [
       "array([2, 3])"
      ]
     },
     "execution_count": 14,
     "metadata": {},
     "output_type": "execute_result"
    }
   ],
   "source": [
    "# g. Indexing and Slicing\n",
    "indexed_value = array_math[1]  # Indexing\n",
    "indexed_value\n",
    "sliced_array = array_math[1:3]  # Slicing\n",
    "sliced_array"
   ]
  },
  {
   "cell_type": "code",
   "execution_count": 15,
   "id": "3fdbd115-109b-46de-98fa-1673ba808d32",
   "metadata": {},
   "outputs": [
    {
     "data": {
      "text/plain": [
       "array([3])"
      ]
     },
     "execution_count": 15,
     "metadata": {},
     "output_type": "execute_result"
    }
   ],
   "source": [
    "# h. Boolean Masking\n",
    "boolean_mask = array_math > 2\n",
    "boolean_mask\n",
    "array_math[boolean_mask]"
   ]
  },
  {
   "cell_type": "code",
   "execution_count": null,
   "id": "88a4b1ec-7f29-467e-9e4f-a47b5e05ba51",
   "metadata": {},
   "outputs": [],
   "source": []
  }
 ],
 "metadata": {
  "kernelspec": {
   "display_name": "Python 3 (ipykernel)",
   "language": "python",
   "name": "python3"
  },
  "language_info": {
   "codemirror_mode": {
    "name": "ipython",
    "version": 3
   },
   "file_extension": ".py",
   "mimetype": "text/x-python",
   "name": "python",
   "nbconvert_exporter": "python",
   "pygments_lexer": "ipython3",
   "version": "3.12.5"
  }
 },
 "nbformat": 4,
 "nbformat_minor": 5
}
